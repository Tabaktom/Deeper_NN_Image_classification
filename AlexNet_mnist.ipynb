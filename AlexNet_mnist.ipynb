{
  "nbformat": 4,
  "nbformat_minor": 0,
  "metadata": {
    "colab": {
      "name": "AlexNet_mnist.ipynb",
      "provenance": [],
      "collapsed_sections": [],
      "machine_shape": "hm"
    },
    "kernelspec": {
      "name": "python3",
      "display_name": "Python 3"
    },
    "accelerator": "GPU"
  },
  "cells": [
    {
      "cell_type": "markdown",
      "metadata": {
        "id": "hSm3uqj5WApn",
        "colab_type": "text"
      },
      "source": [
        "# AlexNet Implementation on MNIST dataset\n",
        "## Author: Tom Tabak (Student ID:160889015)"
      ]
    },
    {
      "cell_type": "code",
      "metadata": {
        "id": "mkWaxLv4tZAD",
        "colab_type": "code",
        "outputId": "73c6d27a-5755-4820-89d5-66bb0a75f6d1",
        "colab": {
          "base_uri": "https://localhost:8080/",
          "height": 1000
        }
      },
      "source": [
        "import keras\n",
        "from keras.models import Sequential\n",
        "from keras.layers import Dense, Activation, Dropout, Flatten, Conv2D, MaxPooling2D\n",
        "from keras.layers.normalization import BatchNormalization\n",
        "import numpy as np\n",
        "import keras.backend as K\n",
        "import matplotlib.pyplot as plt\n",
        "from tensorflow.keras.datasets import mnist\n",
        "import numpy as np\n",
        "from sklearn.model_selection import train_test_split\n",
        "import cv2\n",
        "import tensorflow as tf\n",
        "\n",
        "\n",
        "(x_train, y_train), (x_test, y_test) =mnist.load_data()\n",
        "\n",
        "x_train=x_train.astype('uint8')\n",
        "x_test=x_test.astype('uint8')\n",
        "\n",
        "no_classes = len(list(set(y_train)))\n",
        "\n",
        "y_train, y_test=keras.utils.to_categorical(y_train, no_classes), keras.utils.to_categorical(y_test, no_classes)\n",
        "print(np.shape(x_train))\n",
        "X_train = []\n",
        "for i in range(np.shape(x_train)[0]):\n",
        "    res = cv2.resize(x_train[i], (224, 224))\n",
        "    X_train.append(res)\n",
        "X_train=np.array(X_train)\n",
        "X_train = np.reshape(X_train, [np.shape(X_train)[0], 224,224,1])\n",
        "\n",
        "'''\n",
        "X_train = np.array([cv2.resize(img, dsize=(227,227), interpolation=cv2.INTER_CUBIC) for img in X_train])\n",
        "X_val =np.array([cv2.resize(img, dsize=(227,227), interpolation=cv2.INTER_CUBIC) for img in X_val])\n",
        "X_test = np.array([cv2.resize(img, dsize=(227,227), interpolation=cv2.INTER_CUBIC) for img in X_test])\n",
        "\n",
        "X_train = X_train.reshape(X_train.shape[0], 227,227,1)\n",
        "X_test = X_test.reshape(X_test.shape[0], 227,227,1)\n",
        "X_val = X_val.reshape(X_val.shape[0], 227, 227,1)\n",
        "print('ok')\n",
        "'''\n",
        "\n",
        "\n",
        "\n",
        "\n",
        "np.random.seed(1000)\n",
        "#Instantiate an empty model\n",
        "\n",
        "def AlexNet():\n",
        "    model = Sequential()\n",
        "\n",
        "    # 1st Convolutional Layer\n",
        "    model.add(Conv2D(filters=96, input_shape=(224,224,1), kernel_size=(11,11), strides=(4,4), padding='valid'))\n",
        "    model.add(Activation('relu'))\n",
        "    # Max Pooling\n",
        "    model.add(MaxPooling2D(pool_size=(2,2), strides=(2,2), padding='valid'))\n",
        "\n",
        "    # 2nd Convolutional Layer\n",
        "    model.add(Conv2D(filters=256, kernel_size=(5,5), strides=(1,1), padding='valid'))\n",
        "    model.add(Activation('relu'))\n",
        "    # Max Pooling\n",
        "    model.add(MaxPooling2D(pool_size=(2,2), strides=(2,2), padding='valid'))\n",
        "\n",
        "    # 3rd Convolutional Layer\n",
        "    model.add(Conv2D(filters=384, kernel_size=(3,3), strides=(1,1), padding='valid'))\n",
        "    model.add(Activation('relu'))\n",
        "\n",
        "    # 4th Convolutional Layer\n",
        "    model.add(Conv2D(filters=384, kernel_size=(3,3), strides=(1,1), padding='valid'))\n",
        "    model.add(Activation('relu'))\n",
        "\n",
        "    # 5th Convolutional Layer\n",
        "    model.add(Conv2D(filters=256, kernel_size=(3,3), strides=(1,1), padding='valid'))\n",
        "    model.add(Activation('relu'))\n",
        "    # Max Pooling\n",
        "    model.add(MaxPooling2D(pool_size=(2,2), strides=(2,2), padding='valid'))\n",
        "\n",
        "    # Passing it to a Fully Connected layer\n",
        "    model.add(Flatten())\n",
        "    # 1st Fully Connected Layer\n",
        "    model.add(Dense(4096, input_shape=(227*227*3,), activation='relu'))\n",
        "    # Add Dropout to prevent overfitting\n",
        "    model.add(Dropout(0.4))\n",
        "\n",
        "    # 2nd Fully Connected Layer\n",
        "    model.add(Dense(4096, activation='relu'))\n",
        "    model.add(Dropout(0.4))\n",
        "\n",
        "    # 3rd Fully Connected Layer\n",
        "    model.add(Dense(1000, activation='relu'))\n",
        "    model.add(Dropout(0.4))\n",
        "\n",
        "    # Output Layer\n",
        "    model.add(Dense(no_classes, activation='softmax'))\n",
        "    model.summary()\n",
        "    model.compile(loss='categorical_crossentropy', optimizer='adam', metrics=['accuracy'])\n",
        "    return model\n",
        "\n",
        "AlexNet = AlexNet()\n",
        "\n",
        "hist = AlexNet.fit(X_train, y_train, verbose=2, validation_split=0.2, epochs=10, batch_size=32)#, steps_per_epoch=1000, validation_steps=1000)\n",
        "\n",
        "\n",
        "history_dict = hist.history\n",
        "\n",
        "acc = history_dict['accuracy']\n",
        "val_acc = history_dict['val_accuracy']\n",
        "loss = history_dict['loss']\n",
        "val_loss = history_dict['val_loss']\n",
        "\n",
        "epochs = range(1, len(acc) + 1)\n",
        "\n",
        "plt.plot(epochs, acc, 'bo', label='Training Accuracy')\n",
        "plt.plot(epochs, val_acc, 'b', label='Validation Accuracy')\n",
        "plt.title('Training and validation Accuracy')\n",
        "plt.xlabel('Epochs')\n",
        "plt.ylabel('Accuracy')\n",
        "plt.legend()\n",
        "\n",
        "plt.show()\n"
      ],
      "execution_count": 0,
      "outputs": [
        {
          "output_type": "stream",
          "text": [
            "(60000, 28, 28)\n",
            "Model: \"sequential_2\"\n",
            "_________________________________________________________________\n",
            "Layer (type)                 Output Shape              Param #   \n",
            "=================================================================\n",
            "conv2d_6 (Conv2D)            (None, 54, 54, 96)        11712     \n",
            "_________________________________________________________________\n",
            "activation_6 (Activation)    (None, 54, 54, 96)        0         \n",
            "_________________________________________________________________\n",
            "max_pooling2d_4 (MaxPooling2 (None, 27, 27, 96)        0         \n",
            "_________________________________________________________________\n",
            "conv2d_7 (Conv2D)            (None, 23, 23, 256)       614656    \n",
            "_________________________________________________________________\n",
            "activation_7 (Activation)    (None, 23, 23, 256)       0         \n",
            "_________________________________________________________________\n",
            "max_pooling2d_5 (MaxPooling2 (None, 11, 11, 256)       0         \n",
            "_________________________________________________________________\n",
            "conv2d_8 (Conv2D)            (None, 9, 9, 384)         885120    \n",
            "_________________________________________________________________\n",
            "activation_8 (Activation)    (None, 9, 9, 384)         0         \n",
            "_________________________________________________________________\n",
            "conv2d_9 (Conv2D)            (None, 7, 7, 384)         1327488   \n",
            "_________________________________________________________________\n",
            "activation_9 (Activation)    (None, 7, 7, 384)         0         \n",
            "_________________________________________________________________\n",
            "conv2d_10 (Conv2D)           (None, 5, 5, 256)         884992    \n",
            "_________________________________________________________________\n",
            "activation_10 (Activation)   (None, 5, 5, 256)         0         \n",
            "_________________________________________________________________\n",
            "max_pooling2d_6 (MaxPooling2 (None, 2, 2, 256)         0         \n",
            "_________________________________________________________________\n",
            "flatten_2 (Flatten)          (None, 1024)              0         \n",
            "_________________________________________________________________\n",
            "dense_5 (Dense)              (None, 4096)              4198400   \n",
            "_________________________________________________________________\n",
            "dropout_4 (Dropout)          (None, 4096)              0         \n",
            "_________________________________________________________________\n",
            "dense_6 (Dense)              (None, 4096)              16781312  \n",
            "_________________________________________________________________\n",
            "dropout_5 (Dropout)          (None, 4096)              0         \n",
            "_________________________________________________________________\n",
            "dense_7 (Dense)              (None, 1000)              4097000   \n",
            "_________________________________________________________________\n",
            "dropout_6 (Dropout)          (None, 1000)              0         \n",
            "_________________________________________________________________\n",
            "dense_8 (Dense)              (None, 10)                10010     \n",
            "=================================================================\n",
            "Total params: 28,810,690\n",
            "Trainable params: 28,810,690\n",
            "Non-trainable params: 0\n",
            "_________________________________________________________________\n",
            "Train on 48000 samples, validate on 12000 samples\n",
            "Epoch 1/10\n",
            " - 124s - loss: 0.5168 - accuracy: 0.8437 - val_loss: 0.1225 - val_accuracy: 0.9643\n",
            "Epoch 2/10\n",
            " - 123s - loss: 0.1693 - accuracy: 0.9578 - val_loss: 0.1109 - val_accuracy: 0.9722\n",
            "Epoch 3/10\n",
            " - 123s - loss: 0.1416 - accuracy: 0.9671 - val_loss: 0.1276 - val_accuracy: 0.9697\n",
            "Epoch 4/10\n",
            " - 123s - loss: 0.1393 - accuracy: 0.9671 - val_loss: 0.0878 - val_accuracy: 0.9808\n",
            "Epoch 5/10\n",
            " - 123s - loss: 0.1289 - accuracy: 0.9698 - val_loss: 0.1145 - val_accuracy: 0.9721\n",
            "Epoch 6/10\n",
            " - 123s - loss: 0.1251 - accuracy: 0.9702 - val_loss: 0.0869 - val_accuracy: 0.9779\n",
            "Epoch 7/10\n",
            " - 123s - loss: 0.1231 - accuracy: 0.9721 - val_loss: 0.1062 - val_accuracy: 0.9792\n",
            "Epoch 8/10\n",
            " - 123s - loss: 0.1139 - accuracy: 0.9741 - val_loss: 0.1236 - val_accuracy: 0.9754\n",
            "Epoch 9/10\n",
            " - 124s - loss: 0.1268 - accuracy: 0.9696 - val_loss: 0.1547 - val_accuracy: 0.9675\n",
            "Epoch 10/10\n",
            " - 123s - loss: 0.1034 - accuracy: 0.9755 - val_loss: 0.1197 - val_accuracy: 0.9744\n"
          ],
          "name": "stdout"
        },
        {
          "output_type": "display_data",
          "data": {
            "image/png": "[encoded data removed]",
            "text/plain": [
              "<Figure size 432x288 with 1 Axes>"
            ]
          },
          "metadata": {
            "tags": [],
            "needs_background": "light"
          }
        }
      ]
    },
    {
      "cell_type": "code",
      "metadata": {
        "id": "DAr-346P5Hkk",
        "colab_type": "code",
        "outputId": "af9b3035-a136-4ae6-9563-0a4f0e6d4dec",
        "colab": {
          "base_uri": "https://localhost:8080/",
          "height": 294
        }
      },
      "source": [
        "\n",
        "epochs = range(1, len(acc) + 1)\n",
        "\n",
        "plt.plot(epochs, loss, 'bo', label='Training Loss')\n",
        "plt.plot(epochs, val_loss, 'b', label='Validation Loss')\n",
        "plt.title('Training and validation Loss')\n",
        "plt.xlabel('Epochs')\n",
        "plt.ylabel('Loss')\n",
        "plt.legend()\n",
        "\n",
        "plt.show()"
      ],
      "execution_count": 0,
      "outputs": [
        {
          "output_type": "display_data",
          "data": {
            "image/png": "[encoded data removed]",
            "text/plain": [
              "<Figure size 432x288 with 1 Axes>"
            ]
          },
          "metadata": {
            "tags": [],
            "needs_background": "light"
          }
        }
      ]
    },
    {
      "cell_type": "code",
      "metadata": {
        "id": "LILoTJvbtmgf",
        "colab_type": "code",
        "outputId": "94cf5625-4d86-4685-e7bd-7ec56dd80df0",
        "colab": {
          "base_uri": "https://localhost:8080/",
          "height": 49
        }
      },
      "source": [
        "X_test = []\n",
        "for i in range(np.shape(x_test)[0]):\n",
        "    res = cv2.resize(x_test[i], (224, 224))\n",
        "    X_test.append(res)\n",
        "X_test=np.array(X_test)\n",
        "X_test = np.reshape(X_test, [np.shape(X_test)[0], 224,224,1])\n",
        "print('Accuracy: {}'.format(AlexNet.evaluate(X_test, y_test, batch_size=32)[1]))"
      ],
      "execution_count": 0,
      "outputs": [
        {
          "output_type": "stream",
          "text": [
            "10000/10000 [==============================] - 7s 654us/step\n",
            "Accuracy: 0.9804999828338623\n"
          ],
          "name": "stdout"
        }
      ]
    },
    {
      "cell_type": "code",
      "metadata": {
        "id": "cfgir3mcm129",
        "colab_type": "code",
        "outputId": "303c30a4-49dd-46d3-ec20-7a9281f6e21a",
        "colab": {
          "base_uri": "https://localhost:8080/",
          "height": 296
        }
      },
      "source": [
        "import sklearn\n",
        "predictions = AlexNet.predict(X_test)\n",
        "class_report = sklearn.metrics.classification_report(y_test.argmax(axis=1), predictions.argmax(axis=1))\n",
        "print(class_report)"
      ],
      "execution_count": 0,
      "outputs": [
        {
          "output_type": "stream",
          "text": [
            "              precision    recall  f1-score   support\n",
            "\n",
            "           0       0.99      0.98      0.98       980\n",
            "           1       0.99      0.99      0.99      1135\n",
            "           2       0.99      0.98      0.98      1032\n",
            "           3       0.99      0.99      0.99      1010\n",
            "           4       0.97      0.98      0.98       982\n",
            "           5       0.97      0.98      0.97       892\n",
            "           6       0.98      0.99      0.98       958\n",
            "           7       0.97      0.98      0.98      1028\n",
            "           8       0.98      0.99      0.98       974\n",
            "           9       0.98      0.95      0.97      1009\n",
            "\n",
            "    accuracy                           0.98     10000\n",
            "   macro avg       0.98      0.98      0.98     10000\n",
            "weighted avg       0.98      0.98      0.98     10000\n",
            "\n"
          ],
          "name": "stdout"
        }
      ]
    },
    {
      "cell_type": "code",
      "metadata": {
        "id": "5O26tWwdqbzl",
        "colab_type": "code",
        "colab": {}
      },
      "source": [
        ""
      ],
      "execution_count": 0,
      "outputs": []
    }
  ]
}