{
  "nbformat": 4,
  "nbformat_minor": 0,
  "metadata": {
    "colab": {
      "name": "AlexNet_fashion_mnist.ipynb",
      "provenance": [],
      "collapsed_sections": [],
      "machine_shape": "hm"
    },
    "kernelspec": {
      "name": "python3",
      "display_name": "Python 3"
    },
    "accelerator": "GPU"
  },
  "cells": [
    {
      "cell_type": "markdown",
      "metadata": {
        "id": "If4dwQilWfan",
        "colab_type": "text"
      },
      "source": [
        "# AlexNet Implementation on Fashion MNIST dataset\n",
        "## Author: Tom Tabak (Student ID:160889015)"
      ]
    },
    {
      "cell_type": "code",
      "metadata": {
        "id": "avaMMsXvqgpT",
        "colab_type": "code",
        "outputId": "101555ef-b800-44ae-ab4c-945cbe774935",
        "colab": {
          "base_uri": "https://localhost:8080/",
          "height": 1000
        }
      },
      "source": [
        " import keras\n",
        "from keras.models import Sequential\n",
        "from keras.layers import Dense, Activation, Dropout, Flatten, Conv2D, MaxPooling2D\n",
        "from keras.layers.normalization import BatchNormalization\n",
        "import numpy as np\n",
        "import keras.backend as K\n",
        "import matplotlib.pyplot as plt\n",
        "from tensorflow.keras.datasets import fashion_mnist\n",
        "import numpy as np\n",
        "from sklearn.model_selection import train_test_split\n",
        "import cv2\n",
        "import tensorflow as tf\n",
        "\n",
        "(x_train, y_train), (x_test, y_test) =fashion_mnist.load_data()\n",
        "\n",
        "x_train=x_train.astype('uint8')\n",
        "x_test=x_test.astype('uint8')\n",
        "\n",
        "\n",
        "y_train, y_test=keras.utils.to_categorical(y_train, 10), keras.utils.to_categorical(y_test, 10)\n",
        "print(np.shape(x_train))\n",
        "X_train = []\n",
        "for i in range(np.shape(x_train)[0]):\n",
        "    res = cv2.resize(x_train[i], (224, 224))\n",
        "    X_train.append(res)\n",
        "X_train=np.array(X_train)\n",
        "X_train = np.reshape(X_train, [np.shape(X_train)[0], 224,224,1])\n",
        "\n",
        "\n",
        "\n",
        "\n",
        "\n",
        "np.random.seed(1000)\n",
        "#Instantiate an empty model\n",
        "\n",
        "def AlexNet():\n",
        "    model = Sequential()\n",
        "\n",
        "    # 1st Convolutional Layer\n",
        "    model.add(Conv2D(filters=96, input_shape=(224,224,1), kernel_size=(11,11), strides=(4,4), padding='valid'))\n",
        "    model.add(Activation('relu'))\n",
        "    # Max Pooling\n",
        "    model.add(MaxPooling2D(pool_size=(2,2), strides=(2,2), padding='valid'))\n",
        "\n",
        "    # 2nd Convolutional Layer\n",
        "    model.add(Conv2D(filters=256, kernel_size=(5,5), strides=(1,1), padding='valid'))\n",
        "    model.add(Activation('relu'))\n",
        "    # Max Pooling\n",
        "    model.add(MaxPooling2D(pool_size=(2,2), strides=(2,2), padding='valid'))\n",
        "\n",
        "    # 3rd Convolutional Layer\n",
        "    model.add(Conv2D(filters=384, kernel_size=(3,3), strides=(1,1), padding='valid'))\n",
        "    model.add(Activation('relu'))\n",
        "\n",
        "    # 4th Convolutional Layer\n",
        "    model.add(Conv2D(filters=384, kernel_size=(3,3), strides=(1,1), padding='valid'))\n",
        "    model.add(Activation('relu'))\n",
        "\n",
        "    # 5th Convolutional Layer\n",
        "    model.add(Conv2D(filters=256, kernel_size=(3,3), strides=(1,1), padding='valid'))\n",
        "    model.add(Activation('relu'))\n",
        "    # Max Pooling\n",
        "    model.add(MaxPooling2D(pool_size=(2,2), strides=(2,2), padding='valid'))\n",
        "\n",
        "    # Passing it to a Fully Connected layer\n",
        "    model.add(Flatten())\n",
        "    # 1st Fully Connected Layer\n",
        "    model.add(Dense(4096, input_shape=(227*227*3,), activation='relu'))\n",
        "    # Add Dropout to prevent overfitting\n",
        "    model.add(Dropout(0.4))\n",
        "\n",
        "    # 2nd Fully Connected Layer\n",
        "    model.add(Dense(4096, activation='relu'))\n",
        "    model.add(Dropout(0.4))\n",
        "\n",
        "    # 3rd Fully Connected Layer\n",
        "    model.add(Dense(1000, activation='relu'))\n",
        "    model.add(Dropout(0.4))\n",
        "\n",
        "    # Output Layer\n",
        "    model.add(Dense(10, activation='softmax'))\n",
        "    model.summary()\n",
        "    model.compile(loss='categorical_crossentropy', optimizer='adam', metrics=['accuracy'])\n",
        "    return model\n",
        "\n",
        "AlexNet = AlexNet()\n",
        "\n",
        "hist = AlexNet.fit(X_train, y_train, verbose=2, validation_split=0.2, epochs=10, batch_size=32)#, steps_per_epoch=1000, validation_steps=1000)\n",
        "\n",
        "\n",
        "history_dict = hist.history\n",
        "\n",
        "acc = history_dict['accuracy']\n",
        "val_acc = history_dict['val_accuracy']\n",
        "loss = history_dict['loss']\n",
        "val_loss = history_dict['val_loss']\n",
        "\n",
        "epochs = range(1, len(acc) + 1)\n",
        "\n",
        "plt.plot(epochs, acc, 'bo', label='Training Accuracy')\n",
        "plt.plot(epochs, val_acc, 'b', label='Validation Accuracy')\n",
        "plt.title('Training and validation Accuracy')\n",
        "plt.xlabel('Epochs')\n",
        "plt.ylabel('Accuracy')\n",
        "plt.legend()\n",
        "\n",
        "plt.show()\n"
      ],
      "execution_count": 0,
      "outputs": [
        {
          "output_type": "stream",
          "text": [
            "(60000, 28, 28)\n",
            "Model: \"sequential_2\"\n",
            "_________________________________________________________________\n",
            "Layer (type)                 Output Shape              Param #   \n",
            "=================================================================\n",
            "conv2d_6 (Conv2D)            (None, 54, 54, 96)        11712     \n",
            "_________________________________________________________________\n",
            "activation_6 (Activation)    (None, 54, 54, 96)        0         \n",
            "_________________________________________________________________\n",
            "max_pooling2d_4 (MaxPooling2 (None, 27, 27, 96)        0         \n",
            "_________________________________________________________________\n",
            "conv2d_7 (Conv2D)            (None, 23, 23, 256)       614656    \n",
            "_________________________________________________________________\n",
            "activation_7 (Activation)    (None, 23, 23, 256)       0         \n",
            "_________________________________________________________________\n",
            "max_pooling2d_5 (MaxPooling2 (None, 11, 11, 256)       0         \n",
            "_________________________________________________________________\n",
            "conv2d_8 (Conv2D)            (None, 9, 9, 384)         885120    \n",
            "_________________________________________________________________\n",
            "activation_8 (Activation)    (None, 9, 9, 384)         0         \n",
            "_________________________________________________________________\n",
            "conv2d_9 (Conv2D)            (None, 7, 7, 384)         1327488   \n",
            "_________________________________________________________________\n",
            "activation_9 (Activation)    (None, 7, 7, 384)         0         \n",
            "_________________________________________________________________\n",
            "conv2d_10 (Conv2D)           (None, 5, 5, 256)         884992    \n",
            "_________________________________________________________________\n",
            "activation_10 (Activation)   (None, 5, 5, 256)         0         \n",
            "_________________________________________________________________\n",
            "max_pooling2d_6 (MaxPooling2 (None, 2, 2, 256)         0         \n",
            "_________________________________________________________________\n",
            "flatten_2 (Flatten)          (None, 1024)              0         \n",
            "_________________________________________________________________\n",
            "dense_5 (Dense)              (None, 4096)              4198400   \n",
            "_________________________________________________________________\n",
            "dropout_4 (Dropout)          (None, 4096)              0         \n",
            "_________________________________________________________________\n",
            "dense_6 (Dense)              (None, 4096)              16781312  \n",
            "_________________________________________________________________\n",
            "dropout_5 (Dropout)          (None, 4096)              0         \n",
            "_________________________________________________________________\n",
            "dense_7 (Dense)              (None, 1000)              4097000   \n",
            "_________________________________________________________________\n",
            "dropout_6 (Dropout)          (None, 1000)              0         \n",
            "_________________________________________________________________\n",
            "dense_8 (Dense)              (None, 10)                10010     \n",
            "=================================================================\n",
            "Total params: 28,810,690\n",
            "Trainable params: 28,810,690\n",
            "Non-trainable params: 0\n",
            "_________________________________________________________________\n",
            "Train on 48000 samples, validate on 12000 samples\n",
            "Epoch 1/10\n",
            " - 126s - loss: 0.7539 - accuracy: 0.7314 - val_loss: 0.4985 - val_accuracy: 0.8106\n",
            "Epoch 2/10\n",
            " - 126s - loss: 0.5185 - accuracy: 0.8105 - val_loss: 0.4774 - val_accuracy: 0.8279\n",
            "Epoch 3/10\n",
            " - 126s - loss: 0.4830 - accuracy: 0.8231 - val_loss: 0.4421 - val_accuracy: 0.8308\n",
            "Epoch 4/10\n",
            " - 126s - loss: 0.4730 - accuracy: 0.8283 - val_loss: 0.4547 - val_accuracy: 0.8313\n",
            "Epoch 5/10\n",
            " - 126s - loss: 0.4815 - accuracy: 0.8266 - val_loss: 0.4668 - val_accuracy: 0.8266\n",
            "Epoch 6/10\n",
            " - 126s - loss: 0.4520 - accuracy: 0.8331 - val_loss: 0.4206 - val_accuracy: 0.8377\n",
            "Epoch 7/10\n",
            " - 126s - loss: 0.4673 - accuracy: 0.8297 - val_loss: 0.4440 - val_accuracy: 0.8317\n",
            "Epoch 8/10\n",
            " - 126s - loss: 0.4608 - accuracy: 0.8300 - val_loss: 0.5058 - val_accuracy: 0.8105\n",
            "Epoch 9/10\n",
            " - 126s - loss: 0.4544 - accuracy: 0.8323 - val_loss: 0.4323 - val_accuracy: 0.8372\n",
            "Epoch 10/10\n",
            " - 126s - loss: 0.4356 - accuracy: 0.8379 - val_loss: 0.4641 - val_accuracy: 0.8351\n"
          ],
          "name": "stdout"
        },
        {
          "output_type": "display_data",
          "data": {
            "image/png": "[encoded data removed]",
            "text/plain": [
              "<Figure size 432x288 with 1 Axes>"
            ]
          },
          "metadata": {
            "tags": [],
            "needs_background": "light"
          }
        }
      ]
    },
    {
      "cell_type": "code",
      "metadata": {
        "id": "W215ZWpH-xdZ",
        "colab_type": "code",
        "outputId": "80ca81e0-7ae9-42d6-dbe1-7b82b7dae31d",
        "colab": {
          "base_uri": "https://localhost:8080/",
          "height": 294
        }
      },
      "source": [
        "epochs = range(1, len(acc) + 1)\n",
        "\n",
        "plt.plot(epochs, loss, 'bo', label='Training Loss')\n",
        "plt.plot(epochs, val_loss, 'b', label='Validation Loss')\n",
        "plt.title('Training and validation Loss')\n",
        "plt.xlabel('Epochs')\n",
        "plt.ylabel('Loss')\n",
        "plt.legend()\n",
        "\n",
        "plt.show()"
      ],
      "execution_count": 0,
      "outputs": [
        {
          "output_type": "display_data",
          "data": {
            "image/png": "[encoded data removed]",
            "text/plain": [
              "<Figure size 432x288 with 1 Axes>"
            ]
          },
          "metadata": {
            "tags": [],
            "needs_background": "light"
          }
        }
      ]
    },
    {
      "cell_type": "code",
      "metadata": {
        "id": "zrq4qEgKrFgb",
        "colab_type": "code",
        "outputId": "bfa032e9-8a57-42fb-a657-67a1bca7cb3f",
        "colab": {
          "base_uri": "https://localhost:8080/",
          "height": 49
        }
      },
      "source": [
        "X_test = []\n",
        "for i in range(np.shape(x_test)[0]):\n",
        "    res = cv2.resize(x_test[i], (224, 224))\n",
        "    X_test.append(res)\n",
        "X_test=np.array(X_test)\n",
        "X_test = np.reshape(X_test, [np.shape(X_test)[0], 224,224,1])\n",
        "print('Accuracy: {}'.format(AlexNet.evaluate(X_test, y_test, batch_size=32)[1]))"
      ],
      "execution_count": 0,
      "outputs": [
        {
          "output_type": "stream",
          "text": [
            "10000/10000 [==============================] - 2s 248us/step\n",
            "Accuracy: 0.8392000198364258\n"
          ],
          "name": "stdout"
        }
      ]
    },
    {
      "cell_type": "code",
      "metadata": {
        "id": "W-3MaKqTym99",
        "colab_type": "code",
        "outputId": "75d54707-f936-4974-be1e-98c642324c81",
        "colab": {
          "base_uri": "https://localhost:8080/",
          "height": 296
        }
      },
      "source": [
        "import sklearn\n",
        "class_names = ['T-shirt/top', 'Trouser', 'Pullover', 'Dress', 'Coat', 'Sandal', 'Short', 'Sneaker', 'Bag', 'Ankele Boot']\n",
        "predictions = AlexNet.predict(X_test)\n",
        "class_report = sklearn.metrics.classification_report(y_test.argmax(axis=1), predictions.argmax(axis=1), target_names = class_names)\n",
        "print(class_report)"
      ],
      "execution_count": 0,
      "outputs": [
        {
          "output_type": "stream",
          "text": [
            "              precision    recall  f1-score   support\n",
            "\n",
            " T-shirt/top       0.74      0.88      0.80      1000\n",
            "     Trouser       0.99      0.94      0.96      1000\n",
            "    Pullover       0.71      0.72      0.71      1000\n",
            "       Dress       0.86      0.88      0.87      1000\n",
            "        Coat       0.68      0.69      0.69      1000\n",
            "      Sandal       0.97      0.96      0.96      1000\n",
            "       Short       0.62      0.48      0.54      1000\n",
            "     Sneaker       0.92      0.95      0.93      1000\n",
            "         Bag       0.94      0.96      0.95      1000\n",
            " Ankele Boot       0.95      0.93      0.94      1000\n",
            "\n",
            "    accuracy                           0.84     10000\n",
            "   macro avg       0.84      0.84      0.84     10000\n",
            "weighted avg       0.84      0.84      0.84     10000\n",
            "\n"
          ],
          "name": "stdout"
        }
      ]
    },
    {
      "cell_type": "code",
      "metadata": {
        "id": "8TPabCNc8DOV",
        "colab_type": "code",
        "colab": {}
      },
      "source": [
        ""
      ],
      "execution_count": 0,
      "outputs": []
    }
  ]
}