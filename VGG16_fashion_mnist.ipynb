{
  "nbformat": 4,
  "nbformat_minor": 0,
  "metadata": {
    "colab": {
      "name": "VGG16_fashion_mnist.ipynb",
      "provenance": [],
      "collapsed_sections": []
    },
    "kernelspec": {
      "name": "python3",
      "display_name": "Python 3"
    },
    "accelerator": "GPU"
  },
  "cells": [
    {
      "cell_type": "markdown",
      "metadata": {
        "id": "zk4TGhyYYIDL",
        "colab_type": "text"
      },
      "source": [
        "# VGG16 Implementation on Fashion MNIST dataset\n",
        "## Author: Tom Tabak (Student ID:160889015)"
      ]
    },
    {
      "cell_type": "code",
      "metadata": {
        "id": "d6AQjDa-rgej",
        "colab_type": "code",
        "outputId": "c72d1350-c46c-41c3-e1d3-a24cff169409",
        "colab": {
          "base_uri": "https://localhost:8080/",
          "height": 1000
        }
      },
      "source": [
        "import keras\n",
        "from keras.models import Sequential\n",
        "from keras.layers import Dense, Activation, Dropout, Flatten\n",
        "from keras.layers import Conv2D\n",
        "from keras.layers import MaxPooling2D\n",
        "\n",
        "\n",
        "import numpy as np\n",
        "import matplotlib.pyplot as plt\n",
        "from tensorflow.keras.datasets import fashion_mnist\n",
        "import cv2\n",
        "\n",
        "(x_train, y_train), (x_test, y_test) =fashion_mnist.load_data()\n",
        "\n",
        "x_train=x_train.astype('uint8')\n",
        "x_test=x_test.astype('uint8')\n",
        "\n",
        "no_classes = len(list(set(y_train)))\n",
        "\n",
        "y_train, y_test=keras.utils.to_categorical(y_train, no_classes), keras.utils.to_categorical(y_test, no_classes)\n",
        "print(np.shape(x_train))\n",
        "X_train = []\n",
        "for i in range(np.shape(x_train)[0]):\n",
        "    res = cv2.resize(x_train[i], (224, 224))\n",
        "    X_train.append(res)\n",
        "X_train=np.array(X_train)\n",
        "X_train = np.reshape(X_train, [np.shape(X_train)[0], 224,224,1])\n",
        "print(np.shape(X_train))\n",
        "\n",
        "input_shape = (224, 224, 1)\n",
        "\n",
        "#Instantiate an empty model\n",
        "def VGG16():\n",
        "  model = Sequential([\n",
        "      Conv2D(64, (3, 3), input_shape=input_shape, padding='same', activation='relu'),\n",
        "      Conv2D(64, (3, 3), activation='relu', padding='same'),\n",
        "      MaxPooling2D(pool_size=(2, 2), strides=(2, 2)),\n",
        "      Conv2D(128, (3, 3), activation='relu', padding='same'),\n",
        "      Conv2D(128, (3, 3), activation='relu', padding='same'),\n",
        "      MaxPooling2D(pool_size=(2, 2), strides=(2, 2)),\n",
        "      Conv2D(256, (3, 3), activation='relu', padding='same'),\n",
        "      Conv2D(256, (3, 3), activation='relu', padding='same'),\n",
        "      Conv2D(256, (3, 3), activation='relu', padding='same'),\n",
        "      MaxPooling2D(pool_size=(2, 2), strides=(2, 2)),\n",
        "      Conv2D(512, (3, 3), activation='relu', padding='same'),\n",
        "      Conv2D(512, (3, 3), activation='relu', padding='same'),\n",
        "      Conv2D(512, (3, 3), activation='relu', padding='same'),\n",
        "      MaxPooling2D(pool_size=(2, 2), strides=(2, 2)),\n",
        "      Conv2D(512, (3, 3), activation='relu', padding='same'),\n",
        "      Conv2D(512, (3, 3), activation='relu', padding='same'),\n",
        "      Conv2D(512, (3, 3), activation='relu', padding='same'),\n",
        "      MaxPooling2D(pool_size=(2, 2), strides=(2, 2)),\n",
        "      Flatten(),\n",
        "      Dense(4096, activation='relu'),\n",
        "      Dense(4096, activation='relu'),\n",
        "      Dense(no_classes, activation='softmax')])\n",
        "\n",
        "  model.summary()\n",
        "\n",
        "  # Compile the model\n",
        "  model.compile(loss='categorical_crossentropy', optimizer='adam', metrics=['accuracy'])\n",
        "  return model\n",
        "\n",
        "VGG16 = VGG16()\n",
        "\n",
        "vgg_hist = VGG16.fit(X_train, y_train, epochs =10, validation_split=0.2, verbose=2, batch_size=32)"
      ],
      "execution_count": 0,
      "outputs": [
        {
          "output_type": "stream",
          "text": [
            "Using TensorFlow backend.\n"
          ],
          "name": "stderr"
        },
        {
          "output_type": "stream",
          "text": [
            "Downloading data from https://storage.googleapis.com/tensorflow/tf-keras-datasets/train-labels-idx1-ubyte.gz\n",
            "32768/29515 [=================================] - 0s 0us/step\n",
            "Downloading data from https://storage.googleapis.com/tensorflow/tf-keras-datasets/train-images-idx3-ubyte.gz\n",
            "26427392/26421880 [==============================] - 0s 0us/step\n",
            "Downloading data from https://storage.googleapis.com/tensorflow/tf-keras-datasets/t10k-labels-idx1-ubyte.gz\n",
            "8192/5148 [===============================================] - 0s 0us/step\n",
            "Downloading data from https://storage.googleapis.com/tensorflow/tf-keras-datasets/t10k-images-idx3-ubyte.gz\n",
            "4423680/4422102 [==============================] - 0s 0us/step\n",
            "(60000, 28, 28)\n",
            "(60000, 224, 224, 1)\n",
            "Model: \"sequential_1\"\n",
            "_________________________________________________________________\n",
            "Layer (type)                 Output Shape              Param #   \n",
            "=================================================================\n",
            "conv2d_1 (Conv2D)            (None, 224, 224, 64)      640       \n",
            "_________________________________________________________________\n",
            "conv2d_2 (Conv2D)            (None, 224, 224, 64)      36928     \n",
            "_________________________________________________________________\n",
            "max_pooling2d_1 (MaxPooling2 (None, 112, 112, 64)      0         \n",
            "_________________________________________________________________\n",
            "conv2d_3 (Conv2D)            (None, 112, 112, 128)     73856     \n",
            "_________________________________________________________________\n",
            "conv2d_4 (Conv2D)            (None, 112, 112, 128)     147584    \n",
            "_________________________________________________________________\n",
            "max_pooling2d_2 (MaxPooling2 (None, 56, 56, 128)       0         \n",
            "_________________________________________________________________\n",
            "conv2d_5 (Conv2D)            (None, 56, 56, 256)       295168    \n",
            "_________________________________________________________________\n",
            "conv2d_6 (Conv2D)            (None, 56, 56, 256)       590080    \n",
            "_________________________________________________________________\n",
            "conv2d_7 (Conv2D)            (None, 56, 56, 256)       590080    \n",
            "_________________________________________________________________\n",
            "max_pooling2d_3 (MaxPooling2 (None, 28, 28, 256)       0         \n",
            "_________________________________________________________________\n",
            "conv2d_8 (Conv2D)            (None, 28, 28, 512)       1180160   \n",
            "_________________________________________________________________\n",
            "conv2d_9 (Conv2D)            (None, 28, 28, 512)       2359808   \n",
            "_________________________________________________________________\n",
            "conv2d_10 (Conv2D)           (None, 28, 28, 512)       2359808   \n",
            "_________________________________________________________________\n",
            "max_pooling2d_4 (MaxPooling2 (None, 14, 14, 512)       0         \n",
            "_________________________________________________________________\n",
            "conv2d_11 (Conv2D)           (None, 14, 14, 512)       2359808   \n",
            "_________________________________________________________________\n",
            "conv2d_12 (Conv2D)           (None, 14, 14, 512)       2359808   \n",
            "_________________________________________________________________\n",
            "conv2d_13 (Conv2D)           (None, 14, 14, 512)       2359808   \n",
            "_________________________________________________________________\n",
            "max_pooling2d_5 (MaxPooling2 (None, 7, 7, 512)         0         \n",
            "_________________________________________________________________\n",
            "flatten_1 (Flatten)          (None, 25088)             0         \n",
            "_________________________________________________________________\n",
            "dense_1 (Dense)              (None, 4096)              102764544 \n",
            "_________________________________________________________________\n",
            "dense_2 (Dense)              (None, 4096)              16781312  \n",
            "_________________________________________________________________\n",
            "dense_3 (Dense)              (None, 10)                40970     \n",
            "=================================================================\n",
            "Total params: 134,300,362\n",
            "Trainable params: 134,300,362\n",
            "Non-trainable params: 0\n",
            "_________________________________________________________________\n",
            "Train on 48000 samples, validate on 12000 samples\n",
            "Epoch 1/10\n",
            " - 414s - loss: 3.2044 - accuracy: 0.8024 - val_loss: 0.3675 - val_accuracy: 0.8572\n",
            "Epoch 2/10\n",
            " - 404s - loss: 0.3282 - accuracy: 0.8776 - val_loss: 0.2910 - val_accuracy: 0.8920\n",
            "Epoch 3/10\n",
            " - 405s - loss: 0.2917 - accuracy: 0.8882 - val_loss: 0.2837 - val_accuracy: 0.8928\n",
            "Epoch 4/10\n",
            " - 405s - loss: 0.2636 - accuracy: 0.9005 - val_loss: 0.2666 - val_accuracy: 0.8974\n",
            "Epoch 5/10\n",
            " - 405s - loss: 0.2409 - accuracy: 0.9093 - val_loss: 0.2605 - val_accuracy: 0.9018\n",
            "Epoch 6/10\n",
            " - 405s - loss: 0.2269 - accuracy: 0.9143 - val_loss: 0.2852 - val_accuracy: 0.9024\n",
            "Epoch 7/10\n",
            " - 405s - loss: 0.1954 - accuracy: 0.9262 - val_loss: 0.2838 - val_accuracy: 0.9013\n",
            "Epoch 8/10\n",
            " - 404s - loss: 0.1900 - accuracy: 0.9280 - val_loss: 0.2704 - val_accuracy: 0.8991\n",
            "Epoch 9/10\n",
            " - 404s - loss: 0.1718 - accuracy: 0.9339 - val_loss: 0.2694 - val_accuracy: 0.9065\n",
            "Epoch 10/10\n",
            " - 405s - loss: 0.1541 - accuracy: 0.9417 - val_loss: 0.2407 - val_accuracy: 0.9185\n"
          ],
          "name": "stdout"
        }
      ]
    },
    {
      "cell_type": "code",
      "metadata": {
        "id": "aGZVGqDurzmP",
        "colab_type": "code",
        "outputId": "7374de38-0ee3-4fe2-8cf2-7f7e42017056",
        "colab": {
          "base_uri": "https://localhost:8080/",
          "height": 330
        }
      },
      "source": [
        "import matplotlib.pyplot as plt\n",
        "\n",
        "history_dict = vgg_hist.history\n",
        "print(history_dict)\n",
        "acc = history_dict['accuracy']\n",
        "val_acc = history_dict['val_accuracy']\n",
        "loss = history_dict['loss']\n",
        "val_loss = history_dict['val_loss']\n",
        "\n",
        "epochs = range(1, len(acc) + 1)\n",
        "\n",
        "plt.plot(epochs, acc, 'bo', label='Training Accuracy')\n",
        "plt.plot(epochs, val_acc, 'b', label='Validation Accuracy')\n",
        "plt.title('Training and validation Accuracy')\n",
        "plt.xlabel('Epochs')\n",
        "plt.ylabel('Accuracy')\n",
        "plt.legend()\n",
        "\n",
        "plt.show()"
      ],
      "execution_count": 0,
      "outputs": [
        {
          "output_type": "stream",
          "text": [
            "{'val_loss': [0.3674911098877589, 0.2909762709836165, 0.28368660364548365, 0.26662713209788, 0.2605121938288212, 0.2852385906626781, 0.28375021524727345, 0.27041264897584916, 0.2694301969110966, 0.24070375700294971], 'val_accuracy': [0.8572499752044678, 0.8920000195503235, 0.8928333520889282, 0.8974166512489319, 0.9017500281333923, 0.9024166464805603, 0.9012500047683716, 0.8990833163261414, 0.906499981880188, 0.9185000061988831], 'loss': [3.2044140474597613, 0.32820303763697545, 0.2916504387358824, 0.26359554948285224, 0.24090769982958835, 0.22689020742227634, 0.19540805485782525, 0.19002130266961953, 0.17184414116293192, 0.15410968039588382], 'accuracy': [0.8024375, 0.8776042, 0.8882292, 0.90045834, 0.9092708, 0.91433334, 0.92625, 0.928, 0.933875, 0.94166666]}\n"
          ],
          "name": "stdout"
        },
        {
          "output_type": "display_data",
          "data": {
            "image/png": "[encoded data removed]",
            "text/plain": [
              "<Figure size 432x288 with 1 Axes>"
            ]
          },
          "metadata": {
            "tags": [],
            "needs_background": "light"
          }
        }
      ]
    },
    {
      "cell_type": "code",
      "metadata": {
        "id": "8yWXC72EKQdi",
        "colab_type": "code",
        "outputId": "e7d38a52-f0e3-4853-fa03-be0c07515f04",
        "colab": {
          "base_uri": "https://localhost:8080/",
          "height": 294
        }
      },
      "source": [
        "epochs = range(1, len(acc) + 1)\n",
        "\n",
        "plt.plot(epochs, loss, 'bo', label='Training Loss')\n",
        "plt.plot(epochs, val_loss, 'b', label='Validation Loss')\n",
        "plt.title('Training and validation Loss')\n",
        "plt.xlabel('Epochs')\n",
        "plt.ylabel('Loss')\n",
        "plt.legend()\n",
        "\n",
        "plt.show()"
      ],
      "execution_count": 0,
      "outputs": [
        {
          "output_type": "display_data",
          "data": {
            "image/png": "[encoded data removed]",
            "text/plain": [
              "<Figure size 432x288 with 1 Axes>"
            ]
          },
          "metadata": {
            "tags": [],
            "needs_background": "light"
          }
        }
      ]
    },
    {
      "cell_type": "code",
      "metadata": {
        "id": "ewIlBxcyr9we",
        "colab_type": "code",
        "outputId": "93686682-a807-480d-dd62-c632af5d1173",
        "colab": {
          "base_uri": "https://localhost:8080/",
          "height": 49
        }
      },
      "source": [
        "X_test = []\n",
        "for i in range(np.shape(x_test)[0]):\n",
        "    res = cv2.resize(x_test[i], (224, 224))\n",
        "    X_test.append(res)\n",
        "X_test=np.array(X_test)\n",
        "X_test = np.reshape(X_test, [np.shape(X_test)[0], 224,224,1])\n",
        "print('Accuracy: {}'.format(VGG16.evaluate(X_test, y_test, batch_size=32)[1]))"
      ],
      "execution_count": 0,
      "outputs": [
        {
          "output_type": "stream",
          "text": [
            "10000/10000 [==============================] - 90s 9ms/step\n",
            "Accuracy: 0.90829998254776\n"
          ],
          "name": "stdout"
        }
      ]
    },
    {
      "cell_type": "code",
      "metadata": {
        "id": "92fPdS-lsAMN",
        "colab_type": "code",
        "colab": {}
      },
      "source": [
        ""
      ],
      "execution_count": 0,
      "outputs": []
    }
  ]
}