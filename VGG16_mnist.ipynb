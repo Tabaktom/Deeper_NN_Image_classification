{
  "nbformat": 4,
  "nbformat_minor": 0,
  "metadata": {
    "colab": {
      "name": "VGG16_mnist.ipynb",
      "provenance": [],
      "collapsed_sections": []
    },
    "kernelspec": {
      "name": "python3",
      "display_name": "Python 3"
    },
    "accelerator": "GPU"
  },
  "cells": [
    {
      "cell_type": "markdown",
      "metadata": {
        "id": "BSX9dXV7X-2f",
        "colab_type": "text"
      },
      "source": [
        "# VGG16 Implementation on MNIST dataset\n",
        "## Author: Tom Tabak (Student ID:160889015)"
      ]
    },
    {
      "cell_type": "code",
      "metadata": {
        "id": "COotlPr7v9uc",
        "colab_type": "code",
        "outputId": "6f4f4b54-87cf-4fd1-b19e-ba573bd96295",
        "colab": {
          "base_uri": "https://localhost:8080/",
          "height": 1000
        }
      },
      "source": [
        "import keras\n",
        "from keras.models import Sequential\n",
        "from keras.layers import Dense, Activation, Dropout, Flatten\n",
        "from keras.layers import Conv2D\n",
        "from keras.layers import MaxPooling2D\n",
        "\n",
        "\n",
        "import numpy as np\n",
        "import matplotlib.pyplot as plt\n",
        "from tensorflow.keras.datasets import mnist\n",
        "import cv2\n",
        "\n",
        "(x_train, y_train), (x_test, y_test) =mnist.load_data()\n",
        "\n",
        "x_train=x_train.astype('uint8')\n",
        "x_test=x_test.astype('uint8')\n",
        "\n",
        "no_classes = len(list(set(y_train)))\n",
        "\n",
        "y_train, y_test=keras.utils.to_categorical(y_train, no_classes), keras.utils.to_categorical(y_test, no_classes)\n",
        "print(np.shape(x_train))\n",
        "X_train = []\n",
        "for i in range(np.shape(x_train)[0]):\n",
        "    res = cv2.resize(x_train[i], (224, 224))\n",
        "    X_train.append(res)\n",
        "X_train=np.array(X_train)\n",
        "X_train = np.reshape(X_train, [np.shape(X_train)[0], 224,224,1])\n",
        "print(np.shape(X_train))\n",
        "\n",
        "input_shape = (224, 224, 1)\n",
        "\n",
        "#Instantiate an empty model\n",
        "def VGG16():\n",
        "  model = Sequential([\n",
        "      Conv2D(64, (3, 3), input_shape=input_shape, padding='same', activation='relu'),\n",
        "      Conv2D(64, (3, 3), activation='relu', padding='same'),\n",
        "      MaxPooling2D(pool_size=(2, 2), strides=(2, 2)),\n",
        "      Conv2D(128, (3, 3), activation='relu', padding='same'),\n",
        "      Conv2D(128, (3, 3), activation='relu', padding='same'),\n",
        "      MaxPooling2D(pool_size=(2, 2), strides=(2, 2)),\n",
        "      Conv2D(256, (3, 3), activation='relu', padding='same'),\n",
        "      Conv2D(256, (3, 3), activation='relu', padding='same'),\n",
        "      Conv2D(256, (3, 3), activation='relu', padding='same'),\n",
        "      MaxPooling2D(pool_size=(2, 2), strides=(2, 2)),\n",
        "      Conv2D(512, (3, 3), activation='relu', padding='same'),\n",
        "      Conv2D(512, (3, 3), activation='relu', padding='same'),\n",
        "      Conv2D(512, (3, 3), activation='relu', padding='same'),\n",
        "      MaxPooling2D(pool_size=(2, 2), strides=(2, 2)),\n",
        "      Conv2D(512, (3, 3), activation='relu', padding='same'),\n",
        "      Conv2D(512, (3, 3), activation='relu', padding='same'),\n",
        "      Conv2D(512, (3, 3), activation='relu', padding='same'),\n",
        "      MaxPooling2D(pool_size=(2, 2), strides=(2, 2)),\n",
        "      Flatten(),\n",
        "      Dense(4096, activation='relu'),\n",
        "      Dense(4096, activation='relu'),\n",
        "      Dense(no_classes, activation='softmax')])\n",
        "\n",
        "  model.summary()\n",
        "\n",
        "  # Compile the model\n",
        "  model.compile(loss='categorical_crossentropy', optimizer='adam', metrics=['accuracy'])\n",
        "  return model\n",
        "\n",
        "VGG16 = VGG16()\n",
        "\n",
        "vgg_hist = VGG16.fit(X_train, y_train, epochs =10, validation_split=0.2, verbose=2, batch_size=32)"
      ],
      "execution_count": 0,
      "outputs": [
        {
          "output_type": "stream",
          "text": [
            "Using TensorFlow backend.\n"
          ],
          "name": "stderr"
        },
        {
          "output_type": "stream",
          "text": [
            "Downloading data from https://storage.googleapis.com/tensorflow/tf-keras-datasets/mnist.npz\n",
            "11493376/11490434 [==============================] - 0s 0us/step\n",
            "(60000, 28, 28)\n",
            "(60000, 224, 224, 1)\n",
            "Model: \"sequential_1\"\n",
            "_________________________________________________________________\n",
            "Layer (type)                 Output Shape              Param #   \n",
            "=================================================================\n",
            "conv2d_1 (Conv2D)            (None, 224, 224, 64)      640       \n",
            "_________________________________________________________________\n",
            "conv2d_2 (Conv2D)            (None, 224, 224, 64)      36928     \n",
            "_________________________________________________________________\n",
            "max_pooling2d_1 (MaxPooling2 (None, 112, 112, 64)      0         \n",
            "_________________________________________________________________\n",
            "conv2d_3 (Conv2D)            (None, 112, 112, 128)     73856     \n",
            "_________________________________________________________________\n",
            "conv2d_4 (Conv2D)            (None, 112, 112, 128)     147584    \n",
            "_________________________________________________________________\n",
            "max_pooling2d_2 (MaxPooling2 (None, 56, 56, 128)       0         \n",
            "_________________________________________________________________\n",
            "conv2d_5 (Conv2D)            (None, 56, 56, 256)       295168    \n",
            "_________________________________________________________________\n",
            "conv2d_6 (Conv2D)            (None, 56, 56, 256)       590080    \n",
            "_________________________________________________________________\n",
            "conv2d_7 (Conv2D)            (None, 56, 56, 256)       590080    \n",
            "_________________________________________________________________\n",
            "max_pooling2d_3 (MaxPooling2 (None, 28, 28, 256)       0         \n",
            "_________________________________________________________________\n",
            "conv2d_8 (Conv2D)            (None, 28, 28, 512)       1180160   \n",
            "_________________________________________________________________\n",
            "conv2d_9 (Conv2D)            (None, 28, 28, 512)       2359808   \n",
            "_________________________________________________________________\n",
            "conv2d_10 (Conv2D)           (None, 28, 28, 512)       2359808   \n",
            "_________________________________________________________________\n",
            "max_pooling2d_4 (MaxPooling2 (None, 14, 14, 512)       0         \n",
            "_________________________________________________________________\n",
            "conv2d_11 (Conv2D)           (None, 14, 14, 512)       2359808   \n",
            "_________________________________________________________________\n",
            "conv2d_12 (Conv2D)           (None, 14, 14, 512)       2359808   \n",
            "_________________________________________________________________\n",
            "conv2d_13 (Conv2D)           (None, 14, 14, 512)       2359808   \n",
            "_________________________________________________________________\n",
            "max_pooling2d_5 (MaxPooling2 (None, 7, 7, 512)         0         \n",
            "_________________________________________________________________\n",
            "flatten_1 (Flatten)          (None, 25088)             0         \n",
            "_________________________________________________________________\n",
            "dense_1 (Dense)              (None, 4096)              102764544 \n",
            "_________________________________________________________________\n",
            "dense_2 (Dense)              (None, 4096)              16781312  \n",
            "_________________________________________________________________\n",
            "dense_3 (Dense)              (None, 10)                40970     \n",
            "=================================================================\n",
            "Total params: 134,300,362\n",
            "Trainable params: 134,300,362\n",
            "Non-trainable params: 0\n",
            "_________________________________________________________________\n",
            "Train on 48000 samples, validate on 12000 samples\n",
            "Epoch 1/10\n",
            " - 412s - loss: 2.6788 - accuracy: 0.9360 - val_loss: 0.0554 - val_accuracy: 0.9835\n",
            "Epoch 2/10\n",
            " - 403s - loss: 0.0812 - accuracy: 0.9773 - val_loss: 0.0479 - val_accuracy: 0.9857\n",
            "Epoch 3/10\n",
            " - 404s - loss: 0.0520 - accuracy: 0.9847 - val_loss: 0.0411 - val_accuracy: 0.9881\n",
            "Epoch 4/10\n",
            " - 404s - loss: 0.0969 - accuracy: 0.9756 - val_loss: 0.0769 - val_accuracy: 0.9800\n",
            "Epoch 5/10\n",
            " - 404s - loss: 0.0330 - accuracy: 0.9905 - val_loss: 0.0435 - val_accuracy: 0.9887\n",
            "Epoch 6/10\n",
            " - 404s - loss: 0.0307 - accuracy: 0.9914 - val_loss: 0.0367 - val_accuracy: 0.9908\n",
            "Epoch 7/10\n",
            " - 404s - loss: 0.0298 - accuracy: 0.9915 - val_loss: 0.0521 - val_accuracy: 0.9877\n",
            "Epoch 8/10\n",
            " - 404s - loss: 0.0342 - accuracy: 0.9909 - val_loss: 0.0534 - val_accuracy: 0.9866\n",
            "Epoch 9/10\n",
            " - 404s - loss: 0.0257 - accuracy: 0.9926 - val_loss: 0.0433 - val_accuracy: 0.9911\n",
            "Epoch 10/10\n",
            " - 404s - loss: 0.0283 - accuracy: 0.9921 - val_loss: 0.0787 - val_accuracy: 0.9806\n"
          ],
          "name": "stdout"
        }
      ]
    },
    {
      "cell_type": "code",
      "metadata": {
        "id": "6MeIpHWmwL6n",
        "colab_type": "code",
        "outputId": "870d3e7c-891c-49a8-924f-b76ba52be141",
        "colab": {
          "base_uri": "https://localhost:8080/",
          "height": 330
        }
      },
      "source": [
        "import matplotlib.pyplot as plt\n",
        "\n",
        "history_dict = vgg_hist.history\n",
        "print(history_dict)\n",
        "acc = history_dict['accuracy']\n",
        "val_acc = history_dict['val_accuracy']\n",
        "loss = history_dict['loss']\n",
        "val_loss = history_dict['val_loss']\n",
        "\n",
        "epochs = range(1, len(acc) + 1)\n",
        "\n",
        "plt.plot(epochs, acc, 'bo', label='Training Accuracy')\n",
        "plt.plot(epochs, val_acc, 'b', label='Validation Accuracy')\n",
        "plt.title('Training and validation Accuracy')\n",
        "plt.xlabel('Epochs')\n",
        "plt.ylabel('Accuracy')\n",
        "plt.legend()\n",
        "\n",
        "plt.show()"
      ],
      "execution_count": 0,
      "outputs": [
        {
          "output_type": "stream",
          "text": [
            "{'val_loss': [0.05541860307508614, 0.04786435680849536, 0.04113404062956397, 0.07686314715512163, 0.04353589754998635, 0.036667484640891417, 0.05208935865558752, 0.053423429137379574, 0.04328963743827411, 0.07869366085484186], 'val_accuracy': [0.9835000038146973, 0.9856666922569275, 0.9880833625793457, 0.9800000190734863, 0.9887499809265137, 0.9907500147819519, 0.987666666507721, 0.9865833520889282, 0.9910833239555359, 0.9805833101272583], 'loss': [2.6788055383648364, 0.08122606046480782, 0.051975660081330866, 0.09693466972400226, 0.03302932877163145, 0.030711441594071125, 0.029820906600079116, 0.034223647964585366, 0.02565293581074846, 0.02825407847537699], 'accuracy': [0.9359583, 0.9773125, 0.9846875, 0.9755625, 0.9905, 0.9914375, 0.9915208, 0.9908958, 0.99264586, 0.9920625]}\n"
          ],
          "name": "stdout"
        },
        {
          "output_type": "display_data",
          "data": {
            "image/png": "[encoded data removed]",
            "text/plain": [
              "<Figure size 432x288 with 1 Axes>"
            ]
          },
          "metadata": {
            "tags": [],
            "needs_background": "light"
          }
        }
      ]
    },
    {
      "cell_type": "code",
      "metadata": {
        "id": "YGtdBXFt6Lx-",
        "colab_type": "code",
        "outputId": "1278d037-f089-46a3-e6a6-468ce8ca6693",
        "colab": {
          "base_uri": "https://localhost:8080/",
          "height": 294
        }
      },
      "source": [
        "epochs = range(1, len(acc) + 1)\n",
        "\n",
        "plt.plot(epochs, loss, 'bo', label='Training Loss')\n",
        "plt.plot(epochs, val_loss, 'b', label='Validation Loss')\n",
        "plt.title('Training and validation Loss')\n",
        "plt.xlabel('Epochs')\n",
        "plt.ylabel('Loss')\n",
        "plt.legend()\n",
        "\n",
        "plt.show()"
      ],
      "execution_count": 0,
      "outputs": [
        {
          "output_type": "display_data",
          "data": {
            "image/png": "[encoded data removed]",
            "text/plain": [
              "<Figure size 432x288 with 1 Axes>"
            ]
          },
          "metadata": {
            "tags": [],
            "needs_background": "light"
          }
        }
      ]
    },
    {
      "cell_type": "code",
      "metadata": {
        "id": "s_cY3bahxecM",
        "colab_type": "code",
        "outputId": "cfe5c81f-a235-46bf-af5a-46aa0d7459f5",
        "colab": {
          "base_uri": "https://localhost:8080/",
          "height": 49
        }
      },
      "source": [
        "X_test = []\n",
        "for i in range(np.shape(x_test)[0]):\n",
        "    res = cv2.resize(x_test[i], (224, 224))\n",
        "    X_test.append(res)\n",
        "X_test=np.array(X_test)\n",
        "X_test = np.reshape(X_test, [np.shape(X_test)[0], 224,224,1])\n",
        "print('Accuracy: {}'.format(VGG16.evaluate(X_test, y_test, batch_size=32)[1]))"
      ],
      "execution_count": 0,
      "outputs": [
        {
          "output_type": "stream",
          "text": [
            "10000/10000 [==============================] - 85s 9ms/step\n",
            "Accuracy: 0.9882000088691711\n"
          ],
          "name": "stdout"
        }
      ]
    },
    {
      "cell_type": "code",
      "metadata": {
        "id": "4L6HzKoOxm_j",
        "colab_type": "code",
        "colab": {}
      },
      "source": [
        ""
      ],
      "execution_count": 0,
      "outputs": []
    }
  ]
}